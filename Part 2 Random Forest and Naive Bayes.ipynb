{
 "cells": [
  {
   "cell_type": "code",
   "execution_count": 1,
   "metadata": {},
   "outputs": [],
   "source": [
    "import pandas as pd\n",
    "import numpy as np\n",
    "from sklearn.ensemble import RandomForestRegressor\n",
    "from sklearn.model_selection import StratifiedKFold"
   ]
  },
  {
   "cell_type": "code",
   "execution_count": 8,
   "metadata": {},
   "outputs": [],
   "source": [
    "data=pd.read_csv('30_features.csv').drop(['Unnamed: 0'],axis=1)"
   ]
  },
  {
   "cell_type": "code",
   "execution_count": 14,
   "metadata": {},
   "outputs": [],
   "source": [
    "i_oot=833507\n",
    "i_training=38511"
   ]
  },
  {
   "cell_type": "code",
   "execution_count": 15,
   "metadata": {},
   "outputs": [],
   "source": [
    "X=data.iloc[i_training:i_oot,:-1]\n",
    "y=data.iloc[i_training:i_oot,-1]\n",
    "X_oot=data.iloc[i_oot:,:-1]\n",
    "y_oot=data.iloc[i_oot:,-1]"
   ]
  },
  {
   "cell_type": "markdown",
   "metadata": {},
   "source": [
    "#### Random Forest"
   ]
  },
  {
   "cell_type": "code",
   "execution_count": 18,
   "metadata": {},
   "outputs": [],
   "source": [
    "### #of Trees=80, mtry=10, min node size=3\n",
    "classifier=RandomForestRegressor(n_estimators=80,max_features=10,min_samples_leaf=3,random_state=0)"
   ]
  },
  {
   "cell_type": "code",
   "execution_count": 22,
   "metadata": {},
   "outputs": [],
   "source": [
    "from sklearn.model_selection import train_test_split\n",
    "X_train,X_test,y_train,y_test=\\\n",
    "    train_test_split(X,y,\n",
    "                     test_size=0.3,\n",
    "                     random_state=0,\n",
    "                     stratify=y\n",
    "                    )"
   ]
  },
  {
   "cell_type": "code",
   "execution_count": 24,
   "metadata": {},
   "outputs": [],
   "source": [
    "def fdr(model,x_vals,y_vals):\n",
    "    y_predict=model.predict(x_vals)\n",
    "    data={'y_pred':y_predict.tolist(),'label_value':y_vals.tolist()}\n",
    "    df=pd.DataFrame(data)\n",
    "    topRows=int(round(len(df)*0.03))\n",
    "    totalbads=sum(df.loc[:,'label_value'])\n",
    "    temp=df.sort_values('y_pred',ascending=False)\n",
    "    temp1=temp.head(topRows)\n",
    "    needed=temp1.loc[:,'label_value']\n",
    "    FDR=sum(needed)/totalbads\n",
    "    return(FDR)\n"
   ]
  },
  {
   "cell_type": "code",
   "execution_count": 43,
   "metadata": {},
   "outputs": [
    {
     "data": {
      "text/plain": [
       "RandomForestRegressor(max_features=10, min_samples_leaf=3, n_estimators=80,\n",
       "                      random_state=0)"
      ]
     },
     "execution_count": 43,
     "metadata": {},
     "output_type": "execute_result"
    }
   ],
   "source": [
    "### #of Trees=80, mtry=10, min node size=3\n",
    "classifier=RandomForestRegressor(n_estimators=80,max_features=10,min_samples_leaf=3,random_state=0)\n",
    "classifier.fit(X_train,y_train)"
   ]
  },
  {
   "cell_type": "code",
   "execution_count": 44,
   "metadata": {},
   "outputs": [
    {
     "name": "stdout",
     "output_type": "stream",
     "text": [
      "With 80 trees, mtry=10, min node size=3:\n",
      "training fdr: 0.6014925373134329\n",
      "testing fdr: 0.5702263493905978\n",
      "oot fdr: 0.5603520536462699\n"
     ]
    }
   ],
   "source": [
    "print('With 80 trees, mtry=10, min node size=3:')\n",
    "print('training fdr:',fdr(classifier,X_train,y_train))\n",
    "print('testing fdr:',fdr(classifier,X_test,y_test))\n",
    "print('oot fdr:',fdr(classifier,X_oot,y_oot))\n"
   ]
  },
  {
   "cell_type": "code",
   "execution_count": 40,
   "metadata": {},
   "outputs": [
    {
     "name": "stdout",
     "output_type": "stream",
     "text": [
      "With 100 trees, mtry=5, min node size=3:\n",
      "training fdr: 0.6002487562189055\n",
      "testing fdr: 0.571677307022635\n",
      "oot fdr: 0.5599329421626152\n"
     ]
    }
   ],
   "source": [
    "### #of Trees=100, mtry=5, min node size=3\n",
    "classifier=RandomForestRegressor(n_estimators=100,max_features=5,min_samples_leaf=3,random_state=0)\n",
    "classifier.fit(X_train,y_train)\n",
    "\n",
    "print('With 100 trees, mtry=5, min node size=3:')\n",
    "print('training fdr:',fdr(classifier,X_train,y_train))\n",
    "print('testing fdr:',fdr(classifier,X_test,y_test))\n",
    "print('oot fdr:',fdr(classifier,X_oot,y_oot))\n",
    "\n"
   ]
  },
  {
   "cell_type": "code",
   "execution_count": 41,
   "metadata": {},
   "outputs": [
    {
     "name": "stdout",
     "output_type": "stream",
     "text": [
      "With 100 trees, mtry=10, min node size=3:\n",
      "training fdr: 0.6016169154228855\n",
      "testing fdr: 0.57109692396982\n",
      "oot fdr: 0.5603520536462699\n"
     ]
    }
   ],
   "source": [
    "### #of Trees=100, mtry=10, min node size=3\n",
    "classifier=RandomForestRegressor(n_estimators=100,max_features=10,min_samples_leaf=3,random_state=0)\n",
    "classifier.fit(X_train,y_train)\n",
    "\n",
    "print('With 100 trees, mtry=10, min node size=3:')\n",
    "print('training fdr:',fdr(classifier,X_train,y_train))\n",
    "print('testing fdr:',fdr(classifier,X_test,y_test))\n",
    "print('oot fdr:',fdr(classifier,X_oot,y_oot))\n",
    "\n"
   ]
  },
  {
   "cell_type": "markdown",
   "metadata": {},
   "source": [
    "### Naive Bayes"
   ]
  },
  {
   "cell_type": "code",
   "execution_count": 45,
   "metadata": {},
   "outputs": [],
   "source": [
    "from sklearn.naive_bayes import GaussianNB"
   ]
  },
  {
   "cell_type": "code",
   "execution_count": 46,
   "metadata": {},
   "outputs": [],
   "source": [
    "X_train,X_test,y_train,y_test=\\\n",
    "    train_test_split(X,y,\n",
    "                     test_size=0.3,\n",
    "                     random_state=0,\n",
    "                     stratify=y\n",
    "                    )"
   ]
  },
  {
   "cell_type": "code",
   "execution_count": 47,
   "metadata": {},
   "outputs": [
    {
     "data": {
      "text/plain": [
       "GaussianNB()"
      ]
     },
     "execution_count": 47,
     "metadata": {},
     "output_type": "execute_result"
    }
   ],
   "source": [
    "model=GaussianNB()\n",
    "model.fit(X_train,y_train)"
   ]
  },
  {
   "cell_type": "code",
   "execution_count": 50,
   "metadata": {},
   "outputs": [
    {
     "name": "stdout",
     "output_type": "stream",
     "text": [
      "training fdr: 0.4197761194029851\n",
      "testing fdr: 0.4175856065002902\n",
      "oot fdr: 0.39186923721709976\n"
     ]
    }
   ],
   "source": [
    "print('training fdr:',fdr(model,X_train,y_train))\n",
    "print('testing fdr:',fdr(model,X_test,y_test))\n",
    "print('oot fdr:',fdr(model,X_oot,y_oot))\n"
   ]
  }
 ],
 "metadata": {
  "kernelspec": {
   "display_name": "Python 3",
   "language": "python",
   "name": "python3"
  },
  "language_info": {
   "codemirror_mode": {
    "name": "ipython",
    "version": 3
   },
   "file_extension": ".py",
   "mimetype": "text/x-python",
   "name": "python",
   "nbconvert_exporter": "python",
   "pygments_lexer": "ipython3",
   "version": "3.8.5"
  }
 },
 "nbformat": 4,
 "nbformat_minor": 4
}
